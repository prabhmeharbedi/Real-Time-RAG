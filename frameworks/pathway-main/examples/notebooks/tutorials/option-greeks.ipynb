{
  "cells": [
    {
      "cell_type": "markdown",
      "metadata": {
        "id": "view-in-colab"
      },
      "source": [
        "<a href=\"https://colab.research.google.com/github/pathwaycom/pathway/blob/main/examples/notebooks/tutorials/option-greeks.ipynb\" target=\"_parent\"><img src=\"https://pathway.com/assets/colab-badge.svg\" alt=\"Run In Colab\" class=\"inline\"/></a>"
      ]
    },
    {
      "cell_type": "markdown",
      "id": "notebook-instructions",
      "source": [
        "# Installing Pathway with Python 3.10+\n",
        "\n",
        "In the cell below, we install Pathway into a Python 3.10+ Linux runtime.\n",
        "\n",
        "> **If you are running in Google Colab, please run the colab notebook (Ctrl+F9)**, disregarding the 'not authored by Google' warning.\n",
        "> \n",
        "> **The installation and loading time is less than 1 minute**.\n"
      ],
      "metadata": {}
    },
    {
      "cell_type": "code",
      "id": "pip-installation-pathway",
      "source": [
        "%%capture --no-display\n",
        "!pip install --prefer-binary pathway"
      ],
      "execution_count": null,
      "outputs": [],
      "metadata": {}
    },
    {
      "cell_type": "code",
      "id": "logging",
      "source": [
        "import logging\n",
        "\n",
        "logging.basicConfig(level=logging.CRITICAL)"
      ],
      "execution_count": null,
      "outputs": [],
      "metadata": {}
    },
    {
      "cell_type": "markdown",
      "id": "4",
      "metadata": {},
      "source": [
        "# Option Greeks with Databento and Pathway\n",
        "\n",
        "## Introduction\n",
        "\n",
        "Option Greeks are essential tools in financial risk management, measuring an option's price sensitivity. In this article, you'll learn to compute Option Greeks using the [Black/Black 76 model](https://en.wikipedia.org/wiki/Black_model), a variant of the more known [Black-Scholes model](https://en.wikipedia.org/wiki/Black%E2%80%93Scholes_model), and Databento's real-time and historical market data APIs. You'll compute the key Option Greeks, Delta, Gamma, Theta, Vega, and Rho, updating these values in real-time with Pathway to match the real-time data provided by Databento.\n",
        "\n",
        "You can find the sources of the entire project in our [public repository](https://github.com/pathwaycom/pathway/tree/main/examples/projects/option-greeks).\n",
        "\n",
        "### About Pathway\n",
        "\n",
        "Pathway is a Python data processing framework for analytics and AI pipelines over data streams. It\u2019s the ideal solution for real-time processing use cases like computing the Option Greeks.\n",
        "Pathway comes with an easy-to-use Python API, syntax that is simple and intuitive, and you can use the same code for both batch and streaming processing.\n",
        "Pathway is powered by a scalable Rust engine based on Differential Dataflow and performing incremental computation.\n",
        "\n",
        "### About Databento\n",
        "\n",
        "[Databento](https://databento.com/) is a market data provider aiming at making access to institutional-grade financial data simpler and faster.\n",
        "By providing the data directly without third-parties, Databento provides market data APIs with low latency and without data loss.\n",
        "Their simple Python APIs are an ideal data source to perform real-time financial analysis using Pathway.\n",
        "Don't hesitate to browse [Databento catalog](https://databento.com/venues) to see all the available data.\n",
        "\n",
        "![Option Greeks workflow with Pathway and Databento](https://pathway.com/assets/content/showcases/option-greeks/option-greeks.svg)\n",
        "\n",
        "### Option Greeks\n",
        "\n",
        "Options are financial derivatives that give the holder the right, but not the obligation, to buy or sell an underlying asset at a specified price within a certain period.\n",
        "On the other hand, **futures** are contracts that obligate the parties involved to buy or sell an asset at a predetermined price on a specified future date.\n",
        "Options are commonly used in various financial strategies, including hedging and speculation.\n",
        "\n",
        "In this tutorial, you are going to manipulate **options on futures**.\n",
        "\n",
        "There are two kind of options: (1) **call options** and (2) **put options**.\n",
        "A call option gives the holder the right, but not the obligation, to buy the underlying asset at a specified price (the strike price) before or at the option's expiration date.\n",
        "On the other hand, a put option gives the holder the right, but not the obligation, to sell the underlying asset at the strike price before or at the expiration date.\n",
        "\n",
        "In options trading, **Option Greeks** are metrics used to assess the sensitivity of option prices and provide detailed, quantifiable measures of various risk factors.\n",
        "Using Option Greeks, traders and risk managers make more informed, strategic decisions, enhancing their ability to manage risk and optimize returns.\n",
        "\n",
        "Each Option Greek measures the sensisibility of option prices to different factors:\n",
        "- Delta ($\\Delta$) measures the change in an option's price relative to the change in the underlying asset's price. For a call option, Delta is positive, ranging from 0 to 1. This is because as the underlying asset's price increases, the call option becomes more valuable. For a put option, Delta is negative, ranging from -1 to 0. This is because as the underlying asset's price decreases, the put option becomes more valuable.\n",
        "- Gamma ($\\Gamma$) indicates the rate of change of Delta with respect to changes in the price of the underlying asset for both calls and puts. A high Gamma indicates that Delta can change rapidly. Monitoring Gamma helps in understanding how stable an option's Delta is.\n",
        "- Theta ($\\Theta$) represents the time decay of an option. For call options, Theta is usually negative, indicating the option loses value as time passes, given all else remains constant. For put options, Theta is also negative, but the rate at which the value decays can differ because the time decay effect can be more pronounced in different market conditions and volatilities.\n",
        "- Vega ($V$) measures sensitivity to volatility for both calls and puts. Higher volatility increases the value of both calls and puts, but the degree can vary depending on whether it's a call or a put and their respective positions relative to the strike price.\n",
        "- Rho ($\\rho$) indicates sensitivity to interest rate changes. For call options, Rho is positive, meaning the value of a call option increases as interest rates rise. For put options, Rho is negative, meaning the value of a put option decreases as interest rates rise.\n",
        "\n",
        "These metrics help traders and risk managers understand and hedge the risks associated with options positions.\n",
        "You can learn more about Option Greeks [here](https://en.wikipedia.org/wiki/en:Greeks_(finance)) .\n",
        "\n",
        "#### Generic formulas\n",
        "\n",
        "First, let's introduce some notations.\n",
        "Let's define $d_1, d_2$ to help us define the Greeks.\n",
        "Here,\n",
        "- $F$ is the futures price, the agreed-upon price in a futures contract between 2 parties, of an asset, at a specified time in the future\n",
        "- $K$ is the strike price, the price at which one can sell/buy that option,\n",
        "- $T$ is the time to expiration in years,\n",
        "- $r$ is the risk-free interest rate, the theoretical rate of return of an investment with zero risk,\n",
        "- $\\sigma$ is the volatility, the variation of prices over some time interval, also known as the standard deviation of logarithmic returns,\n",
        "- $N(x)$ is the standard normal cumulative distribution function,\n",
        "- $N'(x)$ is the standard normal probability density function.\n",
        "\n",
        "$$\n",
        "d_1 = \\frac{ln(\\frac{F}{K}) + (0.5 \\cdot \\sigma^2)T}{\\sigma \\sqrt{T}}, d_2 = d_1 - \\sigma\\sqrt{T}\n",
        "$$\n",
        "\n",
        "The Option Greeks are defined using $d_1$ and $d_2$.\n",
        "Formula changes depending on whether the option is a call or a put.\n",
        "\n",
        "#### Delta ($\\Delta$)\n",
        "- Call option: $\\Delta = e^{-r T} N(d_1)$\n",
        "- Put option: $\\Delta = -e^{-r T}N(-d_1)$\n",
        "\n",
        "#### Gamma ($\\Gamma$)\n",
        "- For both call and put options: $\\Gamma = e^{-r T}\\frac{N'(d_1)}{S \\sigma \\sqrt{T}}$\n",
        "\n",
        "#### Theta ($\\Theta$)\n",
        "- For call option:\n",
        "$$\n",
        "\\Theta = \\frac{\\frac{-F\\sigma N'(d_1)}{2\\sqrt{T}}-r \\cdot K \\cdot e^{-r T} N(d_2)) + r \\cdot F \\cdot e^{-r T}N(d_1)}{252}\n",
        "$$\n",
        "- For put option\n",
        "$$\n",
        "\\Theta = \\frac{\\frac{-F\\sigma N'(d_1)}{2\\sqrt{T}}+r \\cdot K \\cdot e^{-r T} N(-d_2))- r \\cdot F \\cdot e^{-r T}N(-d_1)}{252}\n",
        "$$\n",
        "\n",
        "#### Vega ($V$)\n",
        "- For both call and put options: $V = e^{-r T}\\frac{F \\cdot N'(d_1) \\sqrt{T}}{100}$\n",
        "\n",
        "#### Rho ($\\rho$)\n",
        "- For call option:\n",
        "$$\n",
        "\\rho = -T e^{-r T} \\frac{F \\cdot N(d_1) - K \\cdot N(d_2)}{100}\n",
        "$$\n",
        "- For put option:\n",
        "$$\n",
        "\\rho = -T e^{-r T} \\frac{K \\cdot N(-d_2) - F \\cdot N(-d_1)}{100}\n",
        "$$\n",
        "\n",
        "Our article is inspired by [this article from Databento](https://databento.com/docs/examples/options/estimating-implied-volatility), which computes the _volatility_ for options for the front-month contract. You can check out their page for more insight.\n",
        "\n",
        "Let's get started!"
      ]
    },
    {
      "cell_type": "markdown",
      "id": "5",
      "metadata": {},
      "source": [
        "## Getting started\n",
        "\n",
        "### Get your API key\n",
        "\n",
        "First, you need financial data. Stock market data is usually public and can be accessed using APIs. [Databento](https://databento.com/docs) provides simple and fast Python APIs to access market data. You can [signup](https://databento.com/signup) and get free credits. You will obtain an API key with your account: save it, you will need it to access the data.\n",
        "\n",
        "### Install the required packages\n",
        "\n",
        "To continue, make sure to install all the needed packages.\n",
        "\n",
        "```\n",
        "!pip install pathway databento pandas scipy numpy python-dotenv\n",
        "```"
      ]
    },
    {
      "cell_type": "markdown",
      "id": "6",
      "metadata": {},
      "source": [
        "Let's start by importing Pathway and Databento:"
      ]
    },
    {
      "cell_type": "code",
      "execution_count": null,
      "id": "7",
      "metadata": {},
      "outputs": [],
      "source": [
        "#_MD_SHOW_import databento as db\n",
        "import pathway as pw"
      ]
    },
    {
      "cell_type": "code",
      "execution_count": null,
      "id": "8",
      "metadata": {
        "lines_to_next_cell": 2
      },
      "outputs": [],
      "source": [
        "# To use advanced features with Pathway Scale, get your free license key from\n",
        "# https://pathway.com/features and paste it below.\n",
        "# To use Pathway Community, comment out the line below.\n",
        "pw.set_license_key(\"demo-license-key-with-telemetry\")"
      ]
    },
    {
      "cell_type": "markdown",
      "id": "9",
      "metadata": {},
      "source": [
        "### Load the API keys using an `.env` file\n",
        "\n",
        "You need to use the API key to access Databento's data. You can create an `.env` file and set an environment variable or paste the API key directly into the code.\n",
        "\n",
        "To use the `.env` file, you first need to create the file, and then copy the key directly in the file:\n",
        "```\n",
        "API_KEY = \"********\"\n",
        "```\n",
        "\n",
        "Then, you need to use the `os` package to load the variable:"
      ]
    },
    {
      "cell_type": "code",
      "execution_count": null,
      "id": "10",
      "metadata": {},
      "outputs": [],
      "source": [
        "import os\n",
        "from dotenv import load_dotenv\n",
        "\n",
        "\n",
        "load_dotenv()\n",
        "API_KEY = os.environ.get(\"API_KEY\")\n",
        "#_MD_SHOW_client = db.Historical(API_KEY)"
      ]
    },
    {
      "cell_type": "markdown",
      "id": "11",
      "metadata": {},
      "source": [
        "## Getting the data\n",
        "\n",
        "Let's start with static data and switch to streaming once everything is ready. Both Databento and Pathway make switching to streaming very easy.\n",
        "\n",
        "### Data\n",
        "Let's focus on E-mini S&P 500 futures contracts whose associated symbol is `ES`.\n",
        "The data is from the Globex exchange platform of the CME Group.\n",
        "\n",
        "#### Notation\n",
        "Options are represented by a specific formatting: root symbol + month + year then type + strike price.\n",
        "Let's take `ESM4 C2950` as an example:\n",
        "- Its root symbol is `ES`, it is a E-mini S&P 500 future contract.\n",
        "- M4 refers to the expiration month and year of the contract: it expires in June 2024.\n",
        "- C means that it is a call option. P is used for puts.\n",
        "- 2950 is the strike price of the option. It is the prices at which the holder can buy the ESM4 future contract.\n",
        "\n",
        "`ESM4` is called the **underlying asset of the of the option**, it is the E-mini S&P 500 futures contract that expires in June 2024."
      ]
    },
    {
      "cell_type": "markdown",
      "id": "12",
      "metadata": {},
      "source": [
        "### Definitions and orders\n",
        "\n",
        "The data is separated into two datasets: the definitions and the orders.\n",
        "\n",
        "**Definitions** provides reference information about each instrument. For options, you are going to use those:\n",
        "- The symbol of option.\n",
        "- The identifier of the option.\n",
        "- The underlying future.\n",
        "- The type of option.\n",
        "- The expiration time of the option.\n",
        "- The strike price of the option.\n",
        "- The time of reception of the data.\n",
        "\n",
        "**This data is static by nature and do not change over time.**\n",
        "\n",
        "In addition to the definitions, you also need the state of the market.\n",
        "You will use the **order book**. For options, you will need:\n",
        "- The symbol of the option.\n",
        "- The bid price.\n",
        "- The ask price.\n",
        "\n",
        "You won't need the times of the order as only the orders from the requested time slot will be received.\n",
        "**The book order data is dynamic by nature as new orders arrive over time.**\n",
        "However, this article will focus on querying historical data: past orders from a given time period.\n",
        "This data is static as it is data from a given time period: all the orders of this time period are known and included in the data.\n",
        "\n",
        "\n",
        "### Reading the definitions\n",
        "The CME Globex data can be found in the [**GLBX.MDP3** dataset](https://databento.com/datasets/GLBX.MDP3) and the [**definition** schema](https://databento.com/docs/schemas-and-data-formats/instrument-definitions?historical=python&live=python). This provides us with useful information about our options, such as the *option type* or *expiration time* of the future."
      ]
    },
    {
      "cell_type": "code",
      "execution_count": null,
      "id": "13",
      "metadata": {},
      "outputs": [],
      "source": [
        "db_dataset = \"GLBX.MDP3\" # CME Globex MDP 3.0\n",
        "db_def_schema = \"definition\" # this provides us the reference information of each instrument\n",
        "db_def_symbols = [\"ES.OPT\"] # all options whose root symbol is ES"
      ]
    },
    {
      "cell_type": "markdown",
      "id": "14",
      "metadata": {},
      "source": [
        "For historical data, the start time and duration are also needed:"
      ]
    },
    {
      "cell_type": "code",
      "execution_count": null,
      "id": "15",
      "metadata": {},
      "outputs": [],
      "source": [
        "import pandas as pd\n",
        "\n",
        "start_time = pd.Timestamp(\"2024-04-04T17:00:00\", tz=\"Us/Central\")\n",
        "data_duration = pd.Timedelta(days=1)"
      ]
    },
    {
      "cell_type": "markdown",
      "id": "16",
      "metadata": {},
      "source": [
        "Let's define a custom [Pathway connector](/developers/user-guide/connect/connectors/custom-python-connectors), to read the data directly from Databento's API.\n",
        "First, you need to declare the [schema](/developers/user-guide/connect/schema) of the data:"
      ]
    },
    {
      "cell_type": "code",
      "execution_count": null,
      "id": "17",
      "metadata": {},
      "outputs": [],
      "source": [
        "class DefinitionInputSchema(pw.Schema):\n",
        "    ts_recv: int          # time in ns when the data was received\n",
        "    raw_symbol: str       # symbol of option\n",
        "    expiration: int       # expiration time of the option\n",
        "    instrument_class: str # type of option\n",
        "    strike_price: float   # see below for what it means\n",
        "    underlying: str       # symbol of the first underlying instrument\n",
        "    instrument_id: int    # An identifier of the option"
      ]
    },
    {
      "cell_type": "markdown",
      "id": "18",
      "metadata": {},
      "source": [
        "Now, you need to define a `ConnectorSubject` that will define how the data is read and ingested by Pathway.\n",
        "The market data is accessed in the `ConnectorSubject` using Databento's [time series](https://databento.com/docs/api-reference-historical/timeseries?historical=python&live=python):"
      ]
    },
    {
      "cell_type": "code",
      "execution_count": null,
      "id": "19",
      "metadata": {},
      "outputs": [],
      "source": [
        "class DefinitionSubject(pw.io.python.ConnectorSubject):\n",
        "    def run(self):\n",
        "        # First, get Databento's data:\n",
        "        data = client.timeseries.get_range(\n",
        "            dataset=db_dataset,\n",
        "            schema=db_def_schema,\n",
        "            symbols=db_def_symbols,\n",
        "            stype_in=db.SType.PARENT,\n",
        "            start=start_time,\n",
        "            end=start_time + data_duration,\n",
        "        )\n",
        "        # Now, ingest the data into Pathway:\n",
        "        for row in data:\n",
        "            # Get the attributes you are interested in\n",
        "            ts_recv = getattr(row, \"ts_recv\")\n",
        "            raw_symbol = getattr(row, \"raw_symbol\")\n",
        "            expiration = getattr(row, \"expiration\")\n",
        "            instrument_class = getattr(row, \"instrument_class\")\n",
        "            strike_price = getattr(row, \"strike_price\") / 1e9\n",
        "            underlying = getattr(row, \"underlying\")\n",
        "            instrument_id = getattr(row, \"instrument_id\")\n",
        "\n",
        "            # Transmit the data\n",
        "            self.next(\n",
        "                ts_recv=ts_recv,\n",
        "                raw_symbol=raw_symbol,\n",
        "                expiration=expiration,\n",
        "                instrument_class=instrument_class,\n",
        "                strike_price=strike_price,\n",
        "                underlying=underlying,\n",
        "                instrument_id=instrument_id,\n",
        "            )"
      ]
    },
    {
      "cell_type": "markdown",
      "id": "20",
      "metadata": {},
      "source": [
        "You can read more about how to access Databento data in [Databento's Documentation](https://databento.com/docs/).\n",
        "\n",
        "Now you can create the table using the [Python connector](/developers/user-guide/connect/connectors/custom-python-connectors):"
      ]
    },
    {
      "cell_type": "code",
      "execution_count": null,
      "id": "21",
      "metadata": {
        "lines_to_next_cell": 2
      },
      "outputs": [
        {
          "name": "stdout",
          "output_type": "stream",
          "text": [
            "            | ts_recv             | raw_symbol        | expiration          | instrument_class | strike_price      | underlying | instrument_id\n",
            "^NQ4SN5H... | 1712268100558405731 | UD:1V: SG 2766914 | 1712354340000000000 | T                | 9223372036.854776 |            | 2766914\n",
            "^TKNWB16... | 1712268121809444020 | UD:1V: GN 2766927 | 1712354340000000000 | T                | 9223372036.854776 |            | 2766927\n",
            "^QPDB24M... | 1712269634334772214 | UD:1V: 12 2767163 | 1712354340000000000 | T                | 9223372036.854776 |            | 2767163\n",
            "^5HSNPF6... | 1712269897918754155 | UD:1V: VT 2767198 | 1712354340000000000 | T                | 9223372036.854776 |            | 2767198\n",
            "^3EH930P... | 1712270087811250835 | UD:1V: GT 2767215 | 1712354340000000000 | T                | 9223372036.854776 |            | 2767215\n"
          ]
        }
      ],
      "source": [
        "table_es = pw.io.python.read(DefinitionSubject(), schema=DefinitionInputSchema)\n"
      ]
    },
    {
      "cell_type": "markdown",
      "id": "22",
      "metadata": {},
      "source": [
        "### Extracting relevant options data"
      ]
    },
    {
      "cell_type": "markdown",
      "id": "23",
      "metadata": {},
      "source": [
        "Currently, your table contain all the options.\n",
        "You need to keep only the one you are interested in.\n",
        "Among all the futures corresponding to the associated future `ES`, let's focus on `ESM4`.\n",
        "In practice you may be interested in the front-month symbol, the one that has the closest expiration date."
      ]
    },
    {
      "cell_type": "code",
      "execution_count": null,
      "id": "24",
      "metadata": {},
      "outputs": [],
      "source": [
        "front_month_symbol = 'ESM4'"
      ]
    },
    {
      "cell_type": "markdown",
      "id": "25",
      "metadata": {},
      "source": [
        "Let's filter the data to only keep the options associated with `ESM4` futures.\n",
        "To only compute the Greeks for the correct options, let's filter out all those whose underlying instrument is different from `ESM4`:"
      ]
    },
    {
      "cell_type": "code",
      "execution_count": null,
      "id": "26",
      "metadata": {},
      "outputs": [
        {
          "name": "stdout",
          "output_type": "stream",
          "text": [
            "            | ts_recv             | raw_symbol | expiration          | instrument_class | strike_price | underlying | instrument_id\n",
            "^9JKNAD4... | 1712275200000000000 | ESM4 C0055 | 1718976600000000000 | C                | 55.0         | ESM4       | 42409251\n",
            "^4BKX67J... | 1712275200000000000 | ESM4 C0100 | 1718976600000000000 | C                | 100.0        | ESM4       | 42406524\n",
            "^SB2J9YB... | 1712275200000000000 | ESM4 C0200 | 1718976600000000000 | C                | 200.0        | ESM4       | 42439016\n",
            "^CVV6ENZ... | 1712275200000000000 | ESM4 C0300 | 1718976600000000000 | C                | 300.0        | ESM4       | 42439018\n",
            "^HRK3X6X... | 1712275200000000000 | ESM4 C0700 | 1718976600000000000 | C                | 700.0        | ESM4       | 129750\n"
          ]
        }
      ],
      "source": [
        "table_esm4 = table_es.filter(pw.this.underlying==front_month_symbol)\n"
      ]
    },
    {
      "cell_type": "markdown",
      "id": "27",
      "metadata": {},
      "source": [
        "As a safeguard, let's also filter on the `instrument_class` to make sure the value is either `C` (CALL) or `P` (PUT):"
      ]
    },
    {
      "cell_type": "code",
      "execution_count": null,
      "id": "28",
      "metadata": {},
      "outputs": [
        {
          "name": "stdout",
          "output_type": "stream",
          "text": [
            "            | ts_recv             | raw_symbol | expiration          | instrument_class | strike_price | underlying | instrument_id\n",
            "^9JKNAD4... | 1712275200000000000 | ESM4 C0055 | 1718976600000000000 | C                | 55.0         | ESM4       | 42409251\n",
            "^4BKX67J... | 1712275200000000000 | ESM4 C0100 | 1718976600000000000 | C                | 100.0        | ESM4       | 42406524\n",
            "^SB2J9YB... | 1712275200000000000 | ESM4 C0200 | 1718976600000000000 | C                | 200.0        | ESM4       | 42439016\n",
            "^CVV6ENZ... | 1712275200000000000 | ESM4 C0300 | 1718976600000000000 | C                | 300.0        | ESM4       | 42439018\n",
            "^HRK3X6X... | 1712275200000000000 | ESM4 C0700 | 1718976600000000000 | C                | 700.0        | ESM4       | 129750\n"
          ]
        }
      ],
      "source": [
        "table_esm4 = table_esm4.filter((pw.this.instrument_class == 'C') | (pw.this.instrument_class == 'P'))\n"
      ]
    },
    {
      "cell_type": "markdown",
      "id": "29",
      "metadata": {},
      "source": [
        "### Option orders\n",
        "\n",
        "Now that you have the options, you need to find the associated orders.\n",
        "The prices, used to compute the volatility, are obtained by averaging all the bids and ask prices. Hence, mid-price is the correct term.\n",
        "\n",
        "This data will be obtained from the _mbp-1_ schema ([Market by price](https://databento.com/docs/schemas-and-data-formats/mbp-1?historical=python&live=python)), which provides every event that updates the top price.\n",
        "\n",
        "To limit data usage, you can query only the symbols present in your data:"
      ]
    },
    {
      "cell_type": "code",
      "execution_count": null,
      "id": "30",
      "metadata": {},
      "outputs": [],
      "source": [
        "table_symbols = table_esm4.reduce(symbol_tuple = pw.reducers.tuple(pw.this.raw_symbol))\n",
        "symbol_list = [front_month_symbol] + list(pw.debug.table_to_pandas(table_symbols)['symbol_tuple'][0])"
      ]
    },
    {
      "cell_type": "markdown",
      "id": "31",
      "metadata": {},
      "source": [
        "As an example, let's only query over a _2 minutes_ time interval, to limit the number of data to extract and process.\n",
        "Similarly to the definition schema, you will use a custom connector to read the data from Databento:"
      ]
    },
    {
      "cell_type": "code",
      "execution_count": null,
      "id": "32",
      "metadata": {},
      "outputs": [
        {
          "name": "stdout",
          "output_type": "stream",
          "text": [
            "            | raw_symbol | bid_px  | ask_px\n",
            "^Z4T8WTR... | ESM4       | 5199.75 | 5200.0\n",
            "^R8ZACFQ... | ESM4       | 5199.75 | 5200.0\n",
            "^VM93KP5... | ESM4       | 5199.75 | 5200.0\n",
            "^PX3Z53V... | ESM4       | 5199.75 | 5200.0\n",
            "^3A5E19T... | ESM4       | 5199.75 | 5200.0\n"
          ]
        }
      ],
      "source": [
        "db_price_schema = \"mbp-1\"\n",
        "\n",
        "class MBP1InputSchema(pw.Schema):\n",
        "    raw_symbol: str # the symbol of the option\n",
        "    bid_px: float   # the bid price\n",
        "    ask_px: float   # the ask price\n",
        "\n",
        "# Only 2 minutes\n",
        "query_data_duration = pd.Timedelta(minutes=2)\n",
        "\n",
        "class MBP1Subject(pw.io.python.ConnectorSubject):\n",
        "    def run(self):\n",
        "        data = client.timeseries.get_range(\n",
        "            dataset=db_dataset,\n",
        "            schema=db_price_schema,\n",
        "            start=start_time,\n",
        "            end=start_time + query_data_duration,\n",
        "            symbols=symbol_list\n",
        "        )\n",
        "        # Databento's instrument map, which will help us get the symbols from the row data\n",
        "        instrument_map = db.common.symbology.InstrumentMap()\n",
        "        instrument_map.insert_metadata(data.metadata)\n",
        "        for row in data:\n",
        "            symbol = instrument_map.resolve(row.instrument_id, row.pretty_ts_recv.date())\n",
        "            levels = getattr(row, \"levels\")\n",
        "            # INT64_MAX is the mark for unknown bid/ask prices\n",
        "            if levels[0].bid_px > (1 << 63) - 10 or levels[0].ask_px > (1 << 63) - 10:\n",
        "                continue\n",
        "            # Prices unit is actually 1e-9\n",
        "            bid_px = levels[0].bid_px / 1e9\n",
        "            ask_px = levels[0].ask_px / 1e9\n",
        "            self.next(\n",
        "                raw_symbol=symbol,\n",
        "                bid_px=bid_px,\n",
        "                ask_px=ask_px,\n",
        "            )\n",
        "\n",
        "table_mbp1 = pw.io.python.read(MBP1Subject(), schema=MBP1InputSchema)\n"
      ]
    },
    {
      "cell_type": "markdown",
      "id": "33",
      "metadata": {},
      "source": [
        "To compute the average prices for all bids, you can use a simple [groupby/reduce](https://pathway.com/developers/user-guide/data-transformation/groupby-reduce-manual):"
      ]
    },
    {
      "cell_type": "code",
      "execution_count": null,
      "id": "34",
      "metadata": {},
      "outputs": [
        {
          "name": "stdout",
          "output_type": "stream",
          "text": [
            "            | raw_symbol | option_midprice\n",
            "^QT4BK1X... | ESM4       | 5203.894756928135\n",
            "^6ZHHRC0... | ESM4 C3950 | 1255.875\n",
            "^W641MZJ... | ESM4 C4000 | 1206.25\n",
            "^WGH73K1... | ESM4 C4050 | 1156.75\n",
            "^HWYWY52... | ESM4 C4100 | 1107.25\n"
          ]
        }
      ],
      "source": [
        "table_mbp1 = table_mbp1.groupby(pw.this.raw_symbol).reduce(\n",
        "    raw_symbol=pw.this.raw_symbol,\n",
        "    option_midprice=(pw.reducers.avg(pw.this.bid_px) + pw.reducers.avg(pw.this.ask_px)) / 2,\n",
        ")\n"
      ]
    },
    {
      "cell_type": "markdown",
      "id": "35",
      "metadata": {},
      "source": [
        "Now, you want to add the data from the `table_esm4` to this `table_mbp1`.\n",
        "To do so, you need to join the two table on the `raw_symbol` values:"
      ]
    },
    {
      "cell_type": "code",
      "execution_count": null,
      "id": "36",
      "metadata": {},
      "outputs": [
        {
          "name": "stdout",
          "output_type": "stream",
          "text": [
            "            | ts_recv             | raw_symbol | expiration          | instrument_class | strike_price | underlying | instrument_id | option_midprice\n",
            "^6ZHYYVZ... | 1712275200000000000 | ESM4 C3950 | 1718976600000000000 | C                | 3950.0       | ESM4       | 4162742       | 1255.875\n",
            "^W64CERT... | 1712275200000000000 | ESM4 C4000 | 1718976600000000000 | C                | 4000.0       | ESM4       | 574893        | 1206.25\n",
            "^WGHCM9D... | 1712275200000000000 | ESM4 C4050 | 1718976600000000000 | C                | 4050.0       | ESM4       | 4162333       | 1156.75\n",
            "^HWYHF5C... | 1712275200000000000 | ESM4 C4100 | 1718976600000000000 | C                | 4100.0       | ESM4       | 655090        | 1107.25\n",
            "^GGRY3PT... | 1712275200000000000 | ESM4 C4150 | 1718976600000000000 | C                | 4150.0       | ESM4       | 4162743       | 1058.0\n"
          ]
        }
      ],
      "source": [
        "table_prices = table_esm4.join(\n",
        "    table_mbp1,\n",
        "    pw.left.raw_symbol == pw.right.raw_symbol\n",
        ").select(\n",
        "    *pw.left,  # Adding all the columns from table_esm4\n",
        "    option_midprice=pw.right.option_midprice,\n",
        ")\n",
        "\n"
      ]
    },
    {
      "cell_type": "markdown",
      "id": "37",
      "metadata": {},
      "source": [
        "## Computing the Option Greeks\n",
        "\n",
        "Now that the data is ready, you can compute the Option Greeks.\n",
        "To do so, you need several values, as you have seen in the **Generic Formulas** section. Recall that you need:\n",
        "- $F$, the futures price\n",
        "- $K$, the strike price\n",
        "- $T$, the time to expiration\n",
        "- $r$, the risk-free interest rate\n",
        "- $\\sigma$, the volatility.\n",
        "\n",
        "### Risk-free interest rate\n",
        "\n",
        "This is a bit more complicated, as it is usually determined by the market and is taken from government securities considered free of default risk. This can be considered more of an input parameter given by the user.\n",
        "\n",
        "Let's use $0.043$ as the value for this interest rate, based on government available data."
      ]
    },
    {
      "cell_type": "code",
      "execution_count": null,
      "id": "38",
      "metadata": {},
      "outputs": [],
      "source": [
        "interest_rate = 0.043"
      ]
    },
    {
      "cell_type": "markdown",
      "id": "39",
      "metadata": {},
      "source": [
        "### Futures price\n",
        "\n",
        "In the **[Black/Black 76 Model](https://en.wikipedia.org/wiki/Black_model)**, the Option Greeks are the options of the front-month contract, this value will be fixed per each front-month contract.\n",
        "In this case, it will be the _stock price_/_last price_ of the `ESM4` option. You can access rows by value using [`ix_ref`](https://pathway.com/developers/user-guide/data-transformation/indexing-grouped-tables):"
      ]
    },
    {
      "cell_type": "code",
      "execution_count": null,
      "id": "40",
      "metadata": {},
      "outputs": [
        {
          "name": "stdout",
          "output_type": "stream",
          "text": [
            "            | ts_recv             | raw_symbol | expiration          | instrument_class | strike_price | underlying | instrument_id | option_midprice | future_price\n",
            "^6ZHYYVZ... | 1712275200000000000 | ESM4 C3950 | 1718976600000000000 | C                | 3950.0       | ESM4       | 4162742       | 1255.875        | 5203.894756928135\n",
            "^W64CERT... | 1712275200000000000 | ESM4 C4000 | 1718976600000000000 | C                | 4000.0       | ESM4       | 574893        | 1206.25         | 5203.894756928135\n",
            "^WGHCM9D... | 1712275200000000000 | ESM4 C4050 | 1718976600000000000 | C                | 4050.0       | ESM4       | 4162333       | 1156.75         | 5203.894756928135\n",
            "^HWYHF5C... | 1712275200000000000 | ESM4 C4100 | 1718976600000000000 | C                | 4100.0       | ESM4       | 655090        | 1107.25         | 5203.894756928135\n",
            "^GGRY3PT... | 1712275200000000000 | ESM4 C4150 | 1718976600000000000 | C                | 4150.0       | ESM4       | 4162743       | 1058.0          | 5203.894756928135\n"
          ]
        }
      ],
      "source": [
        "table_prices = table_prices.with_columns(\n",
        "    future_price=table_mbp1.ix_ref(front_month_symbol).option_midprice\n",
        ")\n",
        "\n"
      ]
    },
    {
      "cell_type": "markdown",
      "id": "41",
      "metadata": {},
      "source": [
        "### Time to expiration\n",
        "\n",
        "Using the `expiration` column, you can compute the _time to expiration_ $T$ which is used in our formulas. Because of how the formulas are defined, it is expressed in **years**.\n",
        "\n",
        "Be careful, the unit of `expiration` is nanoseconds."
      ]
    },
    {
      "cell_type": "code",
      "execution_count": null,
      "id": "42",
      "metadata": {},
      "outputs": [
        {
          "name": "stdout",
          "output_type": "stream",
          "text": [
            "            | ts_recv             | raw_symbol | expiration          | instrument_class | strike_price | underlying | instrument_id | option_midprice | future_price      | time_to_expiration\n",
            "^6ZHYYVZ... | 1712275200000000000 | ESM4 C3950 | 1718976600000000000 | C                | 3950.0       | ESM4       | 4162742       | 1255.875        | 5203.894756928135 | 0.2127283105022831\n",
            "^W64CERT... | 1712275200000000000 | ESM4 C4000 | 1718976600000000000 | C                | 4000.0       | ESM4       | 574893        | 1206.25         | 5203.894756928135 | 0.2127283105022831\n",
            "^WGHCM9D... | 1712275200000000000 | ESM4 C4050 | 1718976600000000000 | C                | 4050.0       | ESM4       | 4162333       | 1156.75         | 5203.894756928135 | 0.2127283105022831\n",
            "^HWYHF5C... | 1712275200000000000 | ESM4 C4100 | 1718976600000000000 | C                | 4100.0       | ESM4       | 655090        | 1107.25         | 5203.894756928135 | 0.2127283105022831\n",
            "^GGRY3PT... | 1712275200000000000 | ESM4 C4150 | 1718976600000000000 | C                | 4150.0       | ESM4       | 4162743       | 1058.0          | 5203.894756928135 | 0.2127283105022831\n"
          ]
        }
      ],
      "source": [
        "# Compute the time to expiration, has to be in years\n",
        "@pw.udf\n",
        "def compute_time_to_expiration(expiration_time: int) -> float:\n",
        "    return (expiration_time - int(start_time.timestamp() * 1e9)) / (1e9 * 86400 * 365)\n",
        "\n",
        "\n",
        "table_texp = table_prices.with_columns(\n",
        "    time_to_expiration=compute_time_to_expiration(pw.this.expiration)\n",
        ")\n",
        "\n"
      ]
    },
    {
      "cell_type": "markdown",
      "id": "43",
      "metadata": {},
      "source": [
        "### Implied Volatility\n",
        "\n",
        "The volatility represents the market's expectation of the future volatility of the underlying asset over the life of the option.\n",
        "Unlike historical volatility, which measures past price fluctuations, implied volatility is derived from the market price of the option itself.\n",
        "\n",
        "Using the [Black Model](https://en.wikipedia.org/wiki/Black_model), you can infer volatility using known data.\n",
        "The option price will be estimated as being **the average of the prices associated to that _option symbol_**.\n",
        "You need to compute $\\sigma$ (the volatility) so that the price calculated in the Black Model is the same as the estimated option price.\n",
        "It comes down to finding the root of a polynomial, which will be done using **scipy**."
      ]
    },
    {
      "cell_type": "markdown",
      "id": "44",
      "metadata": {},
      "source": [
        "### Computing the volatility\n",
        "\n",
        "What follows next is just the previous formulas being translated into Python.\n",
        "\n",
        "First, you need to define the function to compute the option price in the Black Model, having computed the volatility, $\\sigma$."
      ]
    },
    {
      "cell_type": "code",
      "execution_count": null,
      "id": "45",
      "metadata": {},
      "outputs": [],
      "source": [
        "import math\n",
        "\n",
        "def compute_price(\n",
        "    F: float,\n",
        "    K: float,\n",
        "    T: float,\n",
        "    sigma: float,\n",
        "    r: float=interest_rate,\n",
        "    is_call: bool=True\n",
        ") -> float:\n",
        "    d1 = (math.log(F / K) + (sigma**2 / 2) * T) / (sigma * math.sqrt(T))\n",
        "    d2 = d1 - sigma * math.sqrt(T)\n",
        "    sign = 2 * int(is_call) - 1\n",
        "\n",
        "    return math.exp(-r * T) * sign * (norm.cdf(sign * d1) * F - norm.cdf(sign * d2) * K)"
      ]
    },
    {
      "cell_type": "markdown",
      "id": "46",
      "metadata": {},
      "source": [
        "Now, solve the equation by finding the roots of\n",
        "\n",
        "$$\n",
        "BlackPrice(\\sigma) - Meanprice = 0\n",
        "$$\n",
        "\n",
        "using `scipy`'s root finding function. To mark the non-convergence/non-existence of a root, return $None$."
      ]
    },
    {
      "cell_type": "code",
      "execution_count": null,
      "id": "47",
      "metadata": {},
      "outputs": [],
      "source": [
        "import scipy\n",
        "from scipy.stats import norm\n",
        "\n",
        "@pw.udf\n",
        "def compute_volatility(\n",
        "    F: float,\n",
        "    K: float,\n",
        "    T: float,\n",
        "    _is_call: bool,\n",
        "    option_midprice: float\n",
        ") -> float | None:\n",
        "    result = scipy.optimize.root_scalar(\n",
        "        lambda sigma: option_midprice - compute_price(\n",
        "            F=F,\n",
        "            K=K,\n",
        "            T=T,\n",
        "            sigma=sigma,\n",
        "            is_call=_is_call\n",
        "        ),\n",
        "        x0=0.0001,x1=0.8\n",
        "    )\n",
        "\n",
        "    return result.root if result.converged else None"
      ]
    },
    {
      "cell_type": "markdown",
      "id": "48",
      "metadata": {},
      "source": [
        "### Computing $d_1$, $d_2$\n",
        "\n",
        "Now, let's compute the $d_1$, $d_2$ defined as before. Let's define those functions as [**Pathway user-defined function**](/developers/user-guide/data-transformation/user-defined-functions) using the `pw.udf` decorator. Another alternative would be to declare the functions as simple Python functions and apply them to the columns using [`pw.apply`](/developers/user-guide/data-transformation/table-operations#column-operations)."
      ]
    },
    {
      "cell_type": "code",
      "execution_count": null,
      "id": "49",
      "metadata": {},
      "outputs": [],
      "source": [
        "@pw.udf\n",
        "def compute_d1(\n",
        "    F: float,\n",
        "    K: float,\n",
        "    T: float,\n",
        "    sigma: float,\n",
        "    r: float = interest_rate,\n",
        ") -> float:\n",
        "    return (math.log(F / K) + (sigma**2 / 2) * T) / (sigma * math.sqrt(T))\n",
        "\n",
        "@pw.udf\n",
        "def compute_d2(\n",
        "    F: float,\n",
        "    K: float,\n",
        "    T: float,\n",
        "    sigma: float,\n",
        "    r: float = interest_rate\n",
        ") -> float:\n",
        "    return (math.log(F / K) + (sigma**2 / 2) * T) / (sigma * math.sqrt(T)) - sigma * math.sqrt(T)"
      ]
    },
    {
      "cell_type": "markdown",
      "id": "50",
      "metadata": {},
      "source": [
        "### Option Greeks functions"
      ]
    },
    {
      "cell_type": "markdown",
      "id": "51",
      "metadata": {},
      "source": [
        "You can now define the functions to compute the Option Greeks using $F$, $K$, $T$, $\\sigma$, $d_1$, $d_2$, and $\\rho$:"
      ]
    },
    {
      "cell_type": "code",
      "execution_count": null,
      "id": "52",
      "metadata": {},
      "outputs": [],
      "source": [
        "@pw.udf\n",
        "def compute_delta(F: float, K: float, T: float, sigma: float, d1: float, d2: float, is_call: bool, r: float = interest_rate) -> float:\n",
        "    return math.exp(-r * T) * norm.cdf(d1) if is_call \\\n",
        "           else -math.exp(-r * T) * norm.cdf(-d1)\n",
        "\n",
        "@pw.udf\n",
        "def compute_gamma(F: float, K: float, T: float, sigma: float, d1: float, d2: float, is_call: bool, r: float = interest_rate) -> float:\n",
        "    return math.exp(-r * T) * norm.pdf(d1) / (F * sigma * math.sqrt(T))\n",
        "\n",
        "@pw.udf\n",
        "def compute_theta(F: float, K: float, T: float, sigma: float, d1: float, d2: float, is_call: bool, r: float = interest_rate) -> float:\n",
        "    return (-F * sigma * norm.pdf(d1) / (2 * math.sqrt(T)) - r * K * math.exp(-r * T) * norm.cdf(d2) + r * F * math.exp(-r * T) * norm.cdf(d1)) / 252 if is_call \\\n",
        "           else (-F * sigma * norm.pdf(d1) / (2 * math.sqrt(T)) + r * K * math.exp(-r * T) * norm.cdf(-d2) - r * F * math.exp(-r * T) * norm.cdf(-d1)) / 252# per day\n",
        "\n",
        "@pw.udf\n",
        "def compute_vega(F: float, K: float, T: float, sigma: float, d1: float, d2: float, is_call: bool, r: float = interest_rate) -> float:\n",
        "    return F * norm.pdf(d1) * math.sqrt(T) * math.exp(-r * T) / 100\n",
        "\n",
        "@pw.udf\n",
        "def compute_rho(F: float, K: float, T: float, sigma: float, d1: float, d2: float, is_call: bool, r: float = interest_rate) -> float:\n",
        "    return -T * math.exp(-r * T) * (F * norm.cdf(d1) - K * norm.cdf(d2)) / 100 if is_call \\\n",
        "           else -T * math.exp(-r * T) * (K * norm.cdf(-d2) - F * norm.cdf(-d1)) / 100"
      ]
    },
    {
      "cell_type": "markdown",
      "id": "53",
      "metadata": {},
      "source": [
        "### Computing the Options Greeks on the data\n",
        "\n",
        "All you need to do is to use the UDFs you have just defined.\n",
        "\n",
        "First, let's add a column to determine if the option is a call or a put:"
      ]
    },
    {
      "cell_type": "code",
      "execution_count": null,
      "id": "54",
      "metadata": {},
      "outputs": [],
      "source": [
        "table_texp = table_texp.with_columns(is_call=pw.this.instrument_class == 'C')"
      ]
    },
    {
      "cell_type": "markdown",
      "id": "55",
      "metadata": {},
      "source": [
        "Now, you can start computing the Options Greeks. First, let's start with the implied volatility, pre-filtering."
      ]
    },
    {
      "cell_type": "code",
      "execution_count": null,
      "id": "56",
      "metadata": {},
      "outputs": [],
      "source": [
        "table_volatility_unfiltered = table_texp.with_columns(\n",
        "    volatility=compute_volatility(\n",
        "        pw.this.future_price,\n",
        "        pw.this.strike_price,\n",
        "        pw.this.time_to_expiration,\n",
        "        pw.this.is_call,\n",
        "        pw.this.option_midprice\n",
        "    )\n",
        ")"
      ]
    },
    {
      "cell_type": "markdown",
      "id": "57",
      "metadata": {},
      "source": [
        "Filter out entries were volatility couldn't be computed."
      ]
    },
    {
      "cell_type": "code",
      "execution_count": null,
      "id": "58",
      "metadata": {},
      "outputs": [
        {
          "name": "stdout",
          "output_type": "stream",
          "text": [
            "            | ts_recv             | raw_symbol | expiration          | instrument_class | strike_price | underlying | instrument_id | option_midprice | future_price      | time_to_expiration | is_call | volatility\n",
            "^SEETXE6... | 1712275200000000000 | ESM4 C4575 | 1718976600000000000 | C                | 4575.0       | ESM4       | 42428240      | 645.5           | 5203.894756928135 | 0.2127283105022831 | True    | 0.2162233311762161\n",
            "^1G3X41B... | 1712275200000000000 | ESM4 C4600 | 1718976600000000000 | C                | 4600.0       | ESM4       | 475865        | 621.825         | 5203.894756928135 | 0.2127283105022831 | True    | 0.21209709275524571\n",
            "^Q3V7DPW... | 1712275200000000000 | ESM4 C4625 | 1718976600000000000 | C                | 4625.0       | ESM4       | 42428989      | 598.4921875     | 5203.894756928135 | 0.2127283105022831 | True    | 0.20861065805521786\n",
            "^X8WX1ZA... | 1712275200000000000 | ESM4 C4650 | 1718976600000000000 | C                | 4650.0       | ESM4       | 4162744       | 574.8984375     | 5203.894756928135 | 0.2127283105022831 | True    | 0.20429512451895476\n",
            "^K0DSPC7... | 1712275200000000000 | ESM4 C4675 | 1718976600000000000 | C                | 4675.0       | ESM4       | 42426723      | 551.625         | 5203.894756928135 | 0.2127283105022831 | True    | 0.20050269603979845\n"
          ]
        }
      ],
      "source": [
        "table_sigma = table_volatility_unfiltered.filter(pw.this.volatility.is_not_none())\n"
      ]
    },
    {
      "cell_type": "markdown",
      "id": "59",
      "metadata": {},
      "source": [
        "Having filtered the volatility table, you can now compute the useful variables $d_1, d_2$."
      ]
    },
    {
      "cell_type": "code",
      "execution_count": null,
      "id": "60",
      "metadata": {},
      "outputs": [
        {
          "name": "stdout",
          "output_type": "stream",
          "text": [
            "            | ts_recv             | raw_symbol | expiration          | instrument_class | strike_price | underlying | instrument_id | option_midprice | future_price      | time_to_expiration | is_call | volatility          | d1                 | d2\n",
            "^SEETXE6... | 1712275200000000000 | ESM4 C4575 | 1718976600000000000 | C                | 4575.0       | ESM4       | 42428240      | 645.5           | 5203.894756928135 | 0.2127283105022831 | True    | 0.2162233311762161  | 1.341388776078269  | 1.2416612147215103\n",
            "^1G3X41B... | 1712275200000000000 | ESM4 C4600 | 1718976600000000000 | C                | 4600.0       | ESM4       | 475865        | 621.825         | 5203.894756928135 | 0.2127283105022831 | True    | 0.21209709275524571 | 1.3098551501158648 | 1.2120307122243743\n",
            "^Q3V7DPW... | 1712275200000000000 | ESM4 C4625 | 1718976600000000000 | C                | 4625.0       | ESM4       | 42428989      | 598.4921875     | 5203.894756928135 | 0.2127283105022831 | True    | 0.20861065805521786 | 1.2737927697937403 | 1.177576362028194\n",
            "^X8WX1ZA... | 1712275200000000000 | ESM4 C4650 | 1718976600000000000 | C                | 4650.0       | ESM4       | 4162744       | 574.8984375     | 5203.894756928135 | 0.2127283105022831 | True    | 0.20429512451895476 | 1.2414770192939824 | 1.1472510425942404\n",
            "^K0DSPC7... | 1712275200000000000 | ESM4 C4675 | 1718976600000000000 | C                | 4675.0       | ESM4       | 42426723      | 551.625         | 5203.894756928135 | 0.2127283105022831 | True    | 0.20050269603979845 | 1.2052118711951851 | 1.1127350565390985\n"
          ]
        }
      ],
      "source": [
        "table_d1d2 = table_sigma.with_columns(\n",
        "    d1=compute_d1(pw.this.future_price, pw.this.strike_price, pw.this.time_to_expiration, pw.this.volatility),\n",
        "    d2=compute_d2(pw.this.future_price, pw.this.strike_price, pw.this.time_to_expiration, pw.this.volatility)\n",
        ")\n",
        "\n",
        "\n"
      ]
    },
    {
      "cell_type": "markdown",
      "id": "61",
      "metadata": {},
      "source": [
        "And finally, you have everything necessary to compute the Option Greeks."
      ]
    },
    {
      "cell_type": "code",
      "execution_count": null,
      "id": "62",
      "metadata": {},
      "outputs": [
        {
          "name": "stdout",
          "output_type": "stream",
          "text": [
            "            | ts_recv             | instrument_id | delta                  | gamma                  | theta                 | vega                | rho\n",
            "^5E27F9C... | 1712275200000000000 | 167568        | -0.36522676487252637   | 0.0010761593568397742  | -1.20578430675957     | 8.968515868438663   | -0.1926159649113528\n",
            "^1J4SBJJ... | 1712275200000000000 | 171004        | 0.8344597586919202     | 0.0005463957838523174  | -0.9092871240628488   | 5.736160034211216   | -0.9307176420225614\n",
            "^SD7Y171... | 1712275200000000000 | 173016        | 0.26160685918220006    | 0.0011091334660315651  | -0.8828828811890805   | 7.775192039362197   | -0.09595904533756298\n",
            "^XHM3GRB... | 1712275200000000000 | 235276        | 0.6252047990195576     | 0.0010716446664050228  | -1.1942779640728063   | 8.97223714773127    | -0.4128950764706649\n",
            "^P478AH2... | 1712275200000000000 | 239235        | -0.0009342074735111986 | 1.6742179678815765e-06 | -0.056076470450669505 | 0.07586357701342025 | -0.001141369204432041\n"
          ]
        }
      ],
      "source": [
        "table_greeks = table_d1d2.select(\n",
        "    ts_recv=pw.this.ts_recv,\n",
        "    instrument_id=pw.this.instrument_id, # option identifier\n",
        "    delta=compute_delta(F=pw.this.future_price, K=pw.this.strike_price, T=pw.this.time_to_expiration,\n",
        "                        sigma=pw.this.volatility, d1=pw.this.d1, d2=pw.this.d2, is_call=pw.this.is_call),\n",
        "    gamma=compute_gamma(F=pw.this.future_price, K=pw.this.strike_price, T=pw.this.time_to_expiration,\n",
        "                        sigma=pw.this.volatility, d1=pw.this.d1, d2=pw.this.d2, is_call=pw.this.is_call),\n",
        "    theta=compute_theta(F=pw.this.future_price, K=pw.this.strike_price, T=pw.this.time_to_expiration,\n",
        "                        sigma=pw.this.volatility, d1=pw.this.d1, d2=pw.this.d2, is_call=pw.this.is_call),\n",
        "    vega=compute_vega(F=pw.this.future_price, K=pw.this.strike_price, T=pw.this.time_to_expiration,\n",
        "                      sigma=pw.this.volatility, d1=pw.this.d1, d2=pw.this.d2, is_call=pw.this.is_call),\n",
        "    rho=compute_rho(F=pw.this.future_price, K=pw.this.strike_price, T=pw.this.time_to_expiration,\n",
        "                    sigma=pw.this.volatility, d1=pw.this.d1, d2=pw.this.d2, is_call=pw.this.is_call),\n",
        ")\n",
        "\n"
      ]
    },
    {
      "cell_type": "markdown",
      "id": "63",
      "metadata": {},
      "source": [
        "### Output\n",
        "\n",
        "Now that you have successfully computed the Option Greeks, you can output the results to your favorite system.\n",
        "Pathway supports many different [connectors](/developers/user-guide/connect/pathway-connectors/).\n",
        "\n",
        "As an example, you might want to send the results to a CSV file, using Pathway CSV output connector:"
      ]
    },
    {
      "cell_type": "code",
      "execution_count": null,
      "id": "64",
      "metadata": {},
      "outputs": [],
      "source": [
        "pw.io.csv.write(table_greeks, \"./options-greeks.csv\")"
      ]
    },
    {
      "cell_type": "markdown",
      "id": "65",
      "metadata": {},
      "source": [
        "Now, all you need it to run the computation:"
      ]
    },
    {
      "cell_type": "code",
      "execution_count": null,
      "id": "66",
      "metadata": {},
      "outputs": [],
      "source": [
        "#_MD_SHOW_pw.run()"
      ]
    },
    {
      "cell_type": "markdown",
      "id": "67",
      "metadata": {},
      "source": [
        "The Options Greeks will be computed and stored in the `option-greeks.csv` file.\n",
        "\n",
        "#### Streamlit User Interface\n",
        "\n",
        "For a more user-friendly output, you can also output the data to a dashboard to visualize your results.\n",
        "As an example, you can easily set up a dashboard using Streamlit:\n",
        "\n",
        "![Streamlit User Interface](https://pathway.com/assets/content/showcases/option-greeks/Streamlit.png)\n",
        "\n",
        "\n",
        "You can find the sources to obtain this dashboard in our [public GitHub repository](https://github.com/pathwaycom/pathway/tree/main/examples/projects/option-greeks)."
      ]
    },
    {
      "cell_type": "markdown",
      "id": "68",
      "metadata": {},
      "source": [
        "## Going live\n",
        "\n",
        "Pathway has a unified engine capable of processing both static and streaming data, making it easy to transition from one mode to the other.\n",
        "You can easily make the book orders dynamic by updating the input connector `ConnectorSubject` (`MBP1Subject`) to **simulate** real-time data streaming by adding a `time.sleep()` function call after each `next` call.\n",
        "This small modification introduces a delay between data points, emulating the arrival of new data over time.\n",
        "The updated source is available in our [public GitHub repository](https://github.com/pathwaycom/pathway/tree/main/examples/projects/option-greeks).\n",
        "\n",
        "In this case, Pathway will update the results every time the input changes, at the reception of new data point from the _mbp-1_ data for example.\n",
        "\n",
        "Furthermore, you can use _[Databento live APIs](https://databento.com/docs/api-reference-live?historical=python&live=python)_ to obtain the market live data for the book orders and have the Option Greeks updated in real-time as the live data is ingested. This way, you can make full use of the streaming mode."
      ]
    },
    {
      "cell_type": "markdown",
      "id": "69",
      "metadata": {},
      "source": [
        "## Conclusions\n",
        "\n",
        "Congratulations! You now are able to compute the _implied volatility_ and the _Option Greeks_ using Databento to extract the historical market data and Pathway to process it.\n",
        "Pathway is the ideal tool for quantitative projects, allowing you to compute complex financial metrics like Options Greek in real-time.\n",
        "If you are interested, check our example about [Bollinger Bands](/developers/templates/etl/live_data_jupyter) or reach out to us on [Discord](https://discord.com/invite/pathway)!\n",
        "\n",
        "## Acknowledgements\n",
        "\n",
        "We would like to express our gratitude to Databento for their valuable help and support in the creation of this article."
      ]
    }
  ],
  "metadata": {
    "jupytext": {
      "cell_metadata_filter": "-all",
      "main_language": "python",
      "notebook_metadata_filter": "-all"
    },
    "language_info": {
      "codemirror_mode": {
        "name": "ipython",
        "version": 3
      },
      "file_extension": ".py",
      "mimetype": "text/x-python",
      "name": "python",
      "nbconvert_exporter": "python",
      "pygments_lexer": "ipython3",
      "version": "3.11.12"
    }
  },
  "nbformat": 4,
  "nbformat_minor": 5
}