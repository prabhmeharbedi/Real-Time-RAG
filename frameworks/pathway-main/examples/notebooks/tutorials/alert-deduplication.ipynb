{
  "cells": [
    {
      "cell_type": "markdown",
      "metadata": {
        "id": "view-in-colab"
      },
      "source": [
        "<a href=\"https://colab.research.google.com/github/pathwaycom/pathway/blob/main/examples/notebooks/tutorials/alert-deduplication.ipynb\" target=\"_parent\"><img src=\"https://pathway.com/assets/colab-badge.svg\" alt=\"Run In Colab\" class=\"inline\"/></a>"
      ]
    },
    {
      "cell_type": "markdown",
      "id": "notebook-instructions",
      "source": [
        "# Installing Pathway with Python 3.10+\n",
        "\n",
        "In the cell below, we install Pathway into a Python 3.10+ Linux runtime.\n",
        "\n",
        "> **If you are running in Google Colab, please run the colab notebook (Ctrl+F9)**, disregarding the 'not authored by Google' warning.\n",
        "> \n",
        "> **The installation and loading time is less than 1 minute**.\n"
      ],
      "metadata": {}
    },
    {
      "cell_type": "code",
      "id": "pip-installation-pathway",
      "source": [
        "%%capture --no-display\n",
        "!pip install --prefer-binary pathway"
      ],
      "execution_count": null,
      "outputs": [],
      "metadata": {}
    },
    {
      "cell_type": "code",
      "id": "logging",
      "source": [
        "import logging\n",
        "\n",
        "logging.basicConfig(level=logging.CRITICAL)"
      ],
      "execution_count": null,
      "outputs": [],
      "metadata": {}
    },
    {
      "cell_type": "markdown",
      "id": "2",
      "metadata": {
        "lines_to_next_cell": 2
      },
      "source": [
        "# Smart real-time monitoring application with alert deduplication\n",
        "\n",
        "In many monitoring environments, especially those dealing with complex systems, it's common for multiple alerts to be triggered for the same underlying issue. This creates the necessity for alert deduplication, with rules matching specific business needs. In this tutorial we will show how to design and implement such deduplication mechanism in Pathway handling real-time streaming data.\n",
        "\n",
        "For the sake of this tutorial, let's assume we observe a simple stream of floating-point values and our business rule is to notify only whenever the maximal observed value is 30% larger than the previously alerted value.\n",
        "\n",
        "## Sample data\n",
        "Let's generate some static data, which we will convert to a stream later on:"
      ]
    },
    {
      "cell_type": "code",
      "execution_count": null,
      "id": "3",
      "metadata": {},
      "outputs": [
        {
          "data": {
            "image/png": "[encoded data removed]",
            "text/plain": [
              "<Figure size 640x480 with 1 Axes>"
            ]
          },
          "metadata": {},
          "output_type": "display_data"
        }
      ],
      "source": [
        "# GENERATE AND PLOT SAMPLE DATA\n",
        "import matplotlib.pyplot as plt\n",
        "import numpy as np\n",
        "\n",
        "np.random.seed(10)\n",
        "nb_points = 70\n",
        "\n",
        "# Generate x values\n",
        "x = np.linspace(0, nb_points - 1, nb_points).astype(int)\n",
        "\n",
        "# Generate y values with a globally increasing trend and periodic pattern\n",
        "trend = 0.3 * x**1.1  # Globally increasing trend\n",
        "periodic_pattern = 10 * np.sin(2 * np.pi * x / 20)\n",
        "noise = np.random.normal(0, 1, nb_points)\n",
        "\n",
        "# Combine trend and periodic pattern to create y values\n",
        "y = trend + periodic_pattern + noise\n",
        "\n",
        "\n",
        "# PLOTTING\n",
        "def set_params_plot():\n",
        "    plt.xlabel(\"time\")\n",
        "    plt.ylabel(\"value\")\n",
        "    plt.xticks([], [])\n",
        "    plt.yticks([], [])\n",
        "    plt.title(\"\")\n",
        "\n",
        "\n",
        "# Plot the data points\n",
        "plt.subplot(2, 1, 1)\n",
        "set_params_plot()\n",
        "plt.plot(x, y)\n",
        "\n",
        "plt.show()"
      ]
    },
    {
      "cell_type": "markdown",
      "id": "4",
      "metadata": {},
      "source": [
        "Great! The rule mentioned at the beginning should discover the peaks in this data. Let's see how to use Pathway to create an alerting application notifying us about these peaks.\n"
      ]
    },
    {
      "cell_type": "markdown",
      "id": "5",
      "metadata": {},
      "source": [
        "We start by creating a stream out of the above data"
      ]
    },
    {
      "cell_type": "code",
      "execution_count": null,
      "id": "6",
      "metadata": {},
      "outputs": [],
      "source": [
        "import pathway as pw\n",
        "\n",
        "# To use advanced features with Pathway Scale, get your free license key from\n",
        "# https://pathway.com/features and paste it below.\n",
        "# To use Pathway Community, comment out the line below.\n",
        "pw.set_license_key(\"demo-license-key-with-telemetry\")\n",
        "\n",
        "\n",
        "value_functions = {\n",
        "    \"time\": lambda i: int(x[i]),\n",
        "    \"value\": lambda i: float(y[i]),\n",
        "}\n",
        "\n",
        "\n",
        "class InputSchema(pw.Schema):\n",
        "    time: int\n",
        "    value: float\n",
        "\n",
        "\n",
        "input = pw.demo.generate_custom_stream(\n",
        "    value_functions,\n",
        "    schema=InputSchema,\n",
        "    nb_rows=len(x),\n",
        "    input_rate=50,\n",
        "    autocommit_duration_ms=10,\n",
        ")"
      ]
    },
    {
      "cell_type": "markdown",
      "id": "7",
      "metadata": {},
      "source": [
        "To track the maximum value, we could write `input.groupby().reduce(max=pw.reducers.max(input.value))`. Here we want to keep track also *when* this maximum occured, therefore we use the `argmax_rows` utility function."
      ]
    },
    {
      "cell_type": "code",
      "execution_count": null,
      "id": "8",
      "metadata": {
        "lines_to_next_cell": 2
      },
      "outputs": [],
      "source": [
        "reduced = pw.utils.filtering.argmax_rows(input, what=input.value)"
      ]
    },
    {
      "cell_type": "markdown",
      "id": "9",
      "metadata": {},
      "source": [
        "The newly defined `reduced` table will contain only at most a single row, which will be automatically updated by Pathway with a current maximum. This is not yet what we want - adding alerting callback listening for changes to the above table, would result in excessive notifications.\n"
      ]
    },
    {
      "cell_type": "markdown",
      "id": "10",
      "metadata": {
        "lines_to_next_cell": 2
      },
      "source": [
        "We would want to keep a state with the previous maximum value and see if the change is significant, e.g. if a new maximum is 30% larger than the previous one. Such rule can be expressed as a plain Python function returning `True` if we want to accept new maximum and somehow save it in the state\n"
      ]
    },
    {
      "cell_type": "code",
      "execution_count": null,
      "id": "11",
      "metadata": {},
      "outputs": [],
      "source": [
        "def accept_larger_max(new_max: float, prev_max: float) -> bool:\n",
        "    return (\n",
        "        new_max > prev_max * 1.3\n",
        "    )  # your custom business rule for deduplicating alerts"
      ]
    },
    {
      "cell_type": "markdown",
      "id": "12",
      "metadata": {},
      "source": [
        "All you have to do now is to use the `pw.stateful.deduplicate` function to tell Pathway to use your newly defined rule. New values pushed by the stream to the `col` column will be compared to the previously accepted value using the `acceptor` function which we just wrote. Pathway will keep the needed state (i.e. previously accepted value) and perform all the necessary updates for you."
      ]
    },
    {
      "cell_type": "code",
      "execution_count": null,
      "id": "13",
      "metadata": {},
      "outputs": [],
      "source": [
        "result = pw.stateful.deduplicate(reduced, col=reduced.value, acceptor=accept_larger_max)"
      ]
    },
    {
      "cell_type": "markdown",
      "id": "14",
      "metadata": {},
      "source": [
        "Now we can send the alerts to e.g. Slack. We can do it similarily as in the [realtime log monitoring tutorial](/developers/templates/etl/realtime-log-monitoring#scenario-2-sending-the-alert-to-slack) by using `pw.io.subscribe`.\n",
        "\n",
        "Here, for testing purposes, instead of sending an alert, we will store the accepted maxima in the list."
      ]
    },
    {
      "cell_type": "code",
      "execution_count": null,
      "id": "15",
      "metadata": {},
      "outputs": [],
      "source": [
        "alerts = []\n",
        "\n",
        "\n",
        "def send_alert(key, row, time, is_addition):\n",
        "    if is_addition:\n",
        "        alerts.append(\n",
        "            row\n",
        "        )  # change here to send slack message instead of appending to a list"
      ]
    },
    {
      "cell_type": "code",
      "execution_count": null,
      "id": "16",
      "metadata": {},
      "outputs": [],
      "source": [
        "pw.io.subscribe(result, send_alert)"
      ]
    },
    {
      "cell_type": "markdown",
      "id": "17",
      "metadata": {},
      "source": [
        "Let's run the program. Since the stream we defined is bounded (and we set high `input_rate` in the `generate_custom_stream`), the call to `pw.run` will finish quickly. Hovever, in most usecases, you will be streaming data (e.g. from kafka) indefinitely."
      ]
    },
    {
      "cell_type": "code",
      "execution_count": null,
      "id": "18",
      "metadata": {},
      "outputs": [],
      "source": [
        "pw.run(monitoring_level=pw.MonitoringLevel.NONE)"
      ]
    },
    {
      "cell_type": "markdown",
      "id": "19",
      "metadata": {},
      "source": [
        "Let's see the results and plot them on the dataset, to see what the alerts are:"
      ]
    },
    {
      "cell_type": "code",
      "execution_count": null,
      "id": "20",
      "metadata": {},
      "outputs": [
        {
          "data": {
            "text/plain": [
              "[{'time': 0, 'value': 1.331586504129518},\n",
              " {'time': 1, 'value': 4.1054489181478795},\n",
              " {'time': 3, 'value': 9.086296950451466},\n",
              " {'time': 6, 'value': 11.929292906576023},\n",
              " {'time': 23, 'value': 19.916221549411024},\n",
              " {'time': 43, 'value': 26.39125568534823},\n",
              " {'time': 62, 'value': 35.10960077729024}]"
            ]
          },
          "execution_count": null,
          "metadata": {},
          "output_type": "execute_result"
        }
      ],
      "source": [
        "alerts"
      ]
    },
    {
      "cell_type": "code",
      "execution_count": null,
      "id": "21",
      "metadata": {},
      "outputs": [
        {
          "data": {
            "image/png": "[encoded data removed]",
            "text/plain": [
              "<Figure size 640x480 with 1 Axes>"
            ]
          },
          "metadata": {},
          "output_type": "display_data"
        }
      ],
      "source": [
        "# plot alerted points on top of the data\n",
        "plt.subplot(2, 1, 1)\n",
        "set_params_plot()\n",
        "plt.plot(x, y)\n",
        "plt.plot([r[\"time\"] for r in alerts], [r[\"value\"] for r in alerts], \"x\")\n",
        "plt.show()"
      ]
    },
    {
      "cell_type": "markdown",
      "id": "22",
      "metadata": {},
      "source": [
        "Great, we won't be overwhelmed with excessive notifications!\n",
        "One downside is that initially we get some alerts, but this is how we defined our deduplication rule! It is easy to fix it by e.g. by considering maxima above a given threshold.\n",
        "\n",
        "The presented deduplication functionality can be used in many other contexts - e.g. in transportation to filter GPS positions of devices so that we keep only relevant measurements which are sufficiently distant apart."
      ]
    }
  ],
  "metadata": {
    "kernelspec": {
      "display_name": "Python 3 (ipykernel)",
      "language": "python",
      "name": "python3"
    },
    "language_info": {
      "codemirror_mode": {
        "name": "ipython",
        "version": 3
      },
      "file_extension": ".py",
      "mimetype": "text/x-python",
      "name": "python",
      "nbconvert_exporter": "python",
      "pygments_lexer": "ipython3",
      "version": "3.11.12"
    }
  },
  "nbformat": 4,
  "nbformat_minor": 5
}