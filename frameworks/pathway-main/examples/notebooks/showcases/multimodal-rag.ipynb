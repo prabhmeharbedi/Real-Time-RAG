{
  "cells": [
    {
      "cell_type": "markdown",
      "metadata": {
        "id": "view-in-colab"
      },
      "source": [
        "<a href=\"https://colab.research.google.com/github/pathwaycom/pathway/blob/main/examples/notebooks/showcases/multimodal-rag.ipynb\" target=\"_parent\"><img src=\"https://pathway.com/assets/colab-badge.svg\" alt=\"Run In Colab\" class=\"inline\"/></a>"
      ]
    },
    {
      "cell_type": "markdown",
      "id": "notebook-instructions",
      "source": [
        "# Installing Pathway with Python 3.10+\n",
        "\n",
        "In the cell below, we install Pathway into a Python 3.10+ Linux runtime.\n",
        "\n",
        "> **If you are running in Google Colab, please run the colab notebook (Ctrl+F9)**, disregarding the 'not authored by Google' warning.\n",
        "> \n",
        "> **The installation and loading time is less than 1 minute**.\n"
      ],
      "metadata": {}
    },
    {
      "cell_type": "code",
      "id": "pip-installation-pathway",
      "source": [
        "%%capture --no-display\n",
        "!pip install --prefer-binary pathway"
      ],
      "execution_count": null,
      "outputs": [],
      "metadata": {}
    },
    {
      "cell_type": "code",
      "id": "logging",
      "source": [
        "import logging\n",
        "\n",
        "logging.basicConfig(level=logging.CRITICAL)"
      ],
      "execution_count": null,
      "outputs": [],
      "metadata": {}
    },
    {
      "cell_type": "markdown",
      "id": "4",
      "metadata": {
        "id": "-k-SGriV9WOQ"
      },
      "source": [
        "# **Multimodal RAG for PDFs with Text, Images, and Charts**"
      ]
    },
    {
      "cell_type": "markdown",
      "id": "5",
      "metadata": {
        "id": "TKIZcJebzBwZ"
      },
      "source": [
        "![Multimodal RAG overview](https://pathway.com/assets/content/showcases/multimodal-RAG/multimodalRAG-blog-banner.svg)"
      ]
    },
    {
      "cell_type": "markdown",
      "id": "6",
      "metadata": {
        "id": "YQbScd7hUSrw"
      },
      "source": [
        "Multimodal Retrieval-Augmented Generation (MM-RAG) systems are transforming the way you enhance Language Models and Generative AI. By incorporating a variety of data types within one application, these systems significantly expand their capabilities and applications.\n",
        "\n",
        "While traditional [RAG systems](/blog/retrieval-augmented-generation-beginners-guide-rag-apps) primarily use and parse text, Multimodal RAG systems integrate multimedia elements such as images, audio, and video. This integration is beneficial even for use cases that might initially seem like pure text scenarios, such as handling charts, data, and information stored as images.\n",
        "\n",
        "**By the end of this Multimodal RAG app template, you will:**\n",
        "\n",
        "\n",
        "- **Learn what is Multimodal RAG**: Gain a solid grasp of how these systems integrate multiple data types to\n",
        "enhance AI capabilities. Understand how these systems improve performance, especially with unstructured data and complex visual elements. This includes handling PDFs with images, charts, and tables stored as images.\n",
        "\n",
        "- **Run an App Template:** See how to build and run a multimodal RAG application using open-source frameworks like Pathway. Specifically, we use GPT-4o to improve table data extraction accuracy, demonstrating superior performance over standard RAG toolkits. Implementing this approach allows your AI application to stay in sync with documents containing visually formatted elements.\n",
        "\n",
        "\n",
        "\n",
        "If you want to skip the explanations, you can directly find the code [here](#step-by-step-guide-for-multimodal-rag)."
      ]
    },
    {
      "cell_type": "markdown",
      "id": "7",
      "metadata": {
        "id": "IcnZL8Ckju24"
      },
      "source": [
        "## **What is Multimodal RAG (MM-RAG)?**\n",
        "\n",
        "Multimodal Retrieval Augmented Generation (RAG) enhances LLM applications by incorporating text, images, audio, and video into the generation process. These systems retrieve relevant data from external sources and integrate it into the model\u2019s prompt, enabling more accurate and contextually informed responses. This is particularly useful for understanding and generating content from diverse data formats. For example, in financial contexts, Multimodal RAG can efficiently interpret PDFs with complex tables, charts, and visualizations, significantly improving response accuracy.\n",
        "\n"
      ]
    },
    {
      "cell_type": "markdown",
      "id": "8",
      "metadata": {
        "id": "r6X-opHaj4j1"
      },
      "source": [
        "### How is Multimodal RAG Different from existing RAG?\n",
        "\n",
        "Currently, most [RAG applications](/blog/retrieval-augmented-generation-beginners-guide-rag-apps) are mostly limited to text-based data. This is changing with new generative AI models like GPT-4o, Gemini Pro, Claude-3.5 Sonnet, and open-source alternatives like LLaVA, which understand both text and images. Multimodal RAG systems leverage these models to give more coherent outputs, especially for complex queries requiring diverse information formats. This approach significantly enhances performance, as demonstrated in the example below.\n",
        "\n",
        "\n",
        "Combining this with advanced RAG techniques like adaptive RAG, reranking, and hybrid indexing further improves MM-RAG reliability."
      ]
    },
    {
      "cell_type": "markdown",
      "id": "9",
      "metadata": {
        "colab": {
          "base_uri": "https://localhost:8080/",
          "height": 471
        },
        "id": "V6kilV-Ixq96",
        "lines_to_next_cell": 2,
        "outputId": "5e64ff49-f494-40c5-eea9-31e4d7218f5d"
      },
      "source": [
        "::true-img\n",
        "---\n",
        "src: '/assets/content/showcases/multimodal-RAG/multimodalRAG-gpt4o_with_pathway_comparison.gif'\n",
        "alt: \"Multimodal RAG overview\"\n",
        "---\n",
        "::"
      ]
    },
    {
      "cell_type": "markdown",
      "id": "10",
      "metadata": {
        "id": "ubIaksxa-saB"
      },
      "source": [
        "### How is Multimodal RAG Different from Multimodal Search?\n",
        "\n",
        "\n",
        "Multimodal search and Multimodal RAG (MM-RAG) both utilize deep learning models to create an embedding space\u2014a map of meanings for texts, images, and audio. Similar items are placed close together, enabling efficient similarity searches across modalities like text and images. In multimodal search, you can find images based on text queries (text-to-image search) or text based on images (image-to-text search). This method maps data to a shared embedding space where items with similar meanings are grouped together. This is the basic principle behind how [Google gives multimodal search](https://cloud.google.com/blog/products/ai-machine-learning/multimodal-generative-ai-search) results across images and texts.\n",
        "\n",
        "However, unlike MM-RAG, which integrates retrieved data into the prompt for generating new content, multimodal search focuses on retrieving relevant results based on the query input. This makes multimodal search ideal for tasks like image or text searches in large datasets, while MM-RAG is better suited for generating responses that incorporate diverse data formats.\n"
      ]
    },
    {
      "cell_type": "markdown",
      "id": "11",
      "metadata": {
        "id": "UDyj6RgAnf3_"
      },
      "source": [
        "### Key Benefits of Multimodal RAG\n",
        "\n",
        "\n",
        "\n",
        "*   **Visual Data**: Tables, charts, and diagrams, especially in critical use cases like financial documents, can be efficiently interpreted using models like GPT-4o. This enhances the accuracy of generative AI applications. An example of this can be seen in this guide, where visual data is parsed as images to improve understanding and searchability.\n",
        "\n",
        "*   **Indexing**: The explained content from tables is saved with the document chunk into the index, making it easily searchable and more useful for specific queries. This ensures that diverse data types are readily accessible, enhancing the system's performance and utility.\n",
        "\n",
        "*   **Multimodal In-Context Learning**: Modern multimodal RAG systems can perform in-context learning. This means they can learn new tasks from a small set of examples presented within the context (the prompt) at inference time. For instance, you can feed the model examples of images and text, and it will generate new images that follow the visual characteristics of the examples. This broadens the applications and effectiveness of multimodal RAG systems.\n",
        "\n",
        "*  **Shared Benefits with Current RAG Systems**: Privacy for enterprise use-cases, high accuracy, verifiability, lower compute costs, and scalability.\n",
        "\n",
        "\n",
        "\n",
        "\n"
      ]
    },
    {
      "cell_type": "markdown",
      "id": "12",
      "metadata": {
        "id": "DBo5YKJzKpdR"
      },
      "source": [
        "## **What's the main difference between LlamaIndex and Pathway?**\n",
        "\n",
        "Pathway offers an indexing solution that always provides the latest information to your LLM application:  Pathway Vector Store preprocesses and indexes your data in real time, always giving up-to-date answers. LlamaIndex is a framework for writing LLM-enabled applications. Pathway and LlamaIndex are best [used together](/blog/llamaindex-pathway). Pathway vector store is natively available in LlamaIndex."
      ]
    },
    {
      "cell_type": "markdown",
      "id": "13",
      "metadata": {
        "id": "CzxFvo4S_RIj"
      },
      "source": [
        "## **Architecture Used for Multimodal RAG for Production Use Cases**\n",
        "\n",
        "Building a multimodal RAG system for production requires a robust and scalable architecture that can handle diverse data types and ensure seamless integration and retrieval of context. This architecture must efficiently manage data ingestion, processing, and querying, while providing accurate and timely responses to user queries. Key components include data parsers, vector databases, LLMs, and real-time data synchronization tools.\n",
        "\n",
        "\n",
        "\n",
        "\n",
        "\n",
        "\n"
      ]
    },
    {
      "cell_type": "markdown",
      "id": "14",
      "metadata": {
        "colab": {
          "base_uri": "https://localhost:8080/",
          "height": 419
        },
        "id": "l_f-zWx3yFku",
        "outputId": "6a614d59-3ae6-41d2-8c7c-a4c1258c9f94"
      },
      "source": [
        "![Multimodal RAG overview](https://pathway.com/assets/content/showcases/multimodal-RAG/multimodalRAG-gpt4o.gif)"
      ]
    },
    {
      "cell_type": "markdown",
      "id": "15",
      "metadata": {
        "id": "znH7QGu2-6qz"
      },
      "source": [
        "### Key Components of the Multimodal RAG Architecture\n",
        "\n",
        "- **BaseRAGQuestionAnswerer Class**: Integrates foundational RAG components.\n",
        "- **GPT-4o by Open AI**: Used for extracting and understanding multimodal data, generating vector embeddings, and for answering queries with retrieved context.\n",
        "- **Pathway**: Provides real-time synchronization, secure document handling, and a robust in-memory vector store for indexing.\n",
        "\n",
        "This architecture ensures our multimodal RAG system is efficient, scalable, and capable of handling complex data types, making it ideal for production use cases, especially in finance where understanding data within PDFs is crucial.\n"
      ]
    },
    {
      "cell_type": "markdown",
      "id": "16",
      "metadata": {
        "id": "ptCZWfEz_cnc"
      },
      "source": [
        "## **Step by Step Guide for Multimodal RAG**"
      ]
    },
    {
      "cell_type": "markdown",
      "id": "17",
      "metadata": {
        "id": "Wnn4c0-5VGmP"
      },
      "source": [
        "In this guide, we focus on a popular finance use case: **understanding data within PDFs**. Financial documents often contain **complex tables** and **charts** that require precise interpretation.\n",
        "\n",
        "Here we use Open AI\u2019s popular Multimodal LLM, [**GPT-4o**](https://openai.com/index/hello-gpt-4o/). It\u2019s used at two key stages:\n",
        "1. **Parsing Process**: Tables are extracted as images, and GPT-4o then explains the content of these tables in detail. The explained content is saved with the document chunk into the index for easy searchability.\n",
        "\n",
        "2. **Answering Questions**: Questions are sent to the LLM with the relevant context, including parsed tables. This allows the generation of accurate responses based on the comprehensive multimodal context.\n",
        "\n"
      ]
    },
    {
      "cell_type": "markdown",
      "id": "18",
      "metadata": {
        "id": "5rHNeRXI8t2C"
      },
      "source": [
        "### Install Pathway\n",
        "\n",
        "Install Pathway and all its optional packages."
      ]
    },
    {
      "cell_type": "code",
      "execution_count": null,
      "id": "19",
      "metadata": {
        "id": "4hYX0Mb7a9aH",
        "lines_to_next_cell": 2
      },
      "outputs": [],
      "source": [
        "!pip install 'pathway[all]>=0.20.0'"
      ]
    },
    {
      "cell_type": "markdown",
      "id": "20",
      "metadata": {
        "id": "dp6GwenS80Po"
      },
      "source": [
        "### Set Up OpenAI API Key\n",
        "\n",
        "Set the OpenAI API key as an environment variable. Replace the placeholder with your actual API key.\n"
      ]
    },
    {
      "cell_type": "code",
      "execution_count": null,
      "id": "21",
      "metadata": {
        "id": "jSPFNMNVCIC0",
        "lines_to_next_cell": 2
      },
      "outputs": [],
      "source": [
        "OPENAI_API_KEY = \"Paste Your OpenAI API Key here\""
      ]
    },
    {
      "cell_type": "code",
      "execution_count": null,
      "id": "22",
      "metadata": {
        "id": "QFE-c0iuvo5G"
      },
      "outputs": [],
      "source": [
        "import os\n",
        "\n",
        "# Set the OpenAI API key\n",
        "os.environ[\"OPENAI_API_KEY\"] = OPENAI_API_KEY"
      ]
    },
    {
      "cell_type": "markdown",
      "id": "23",
      "metadata": {
        "id": "Z5QxXaQM8w6J"
      },
      "source": [
        "### Imports and Environment Setup\n",
        "\n",
        "This cell sets up necessary imports and environment variables for using Pathway and related functionalities.\n",
        "\n",
        "#### Key Imports:\n",
        "- **pathway**: Main library for document processing and question answering.\n",
        "\n",
        "#### Modules:\n",
        "- **[udfs.DiskCache](/developers/api-docs/udfs#pathway.udfs.DiskCache), [udfs.ExponentialBackoffRetryStrategy](/developers/api-docs/udfs#pathway.udfs.ExponentialBackoffRetryStrategy)**: Modules for caching and retry strategies.\n",
        "- **[xpacks.llm](/developers/user-guide/llm-xpack/overview)**: Various tools for leveraging Large Language Models effectively.\n",
        "- **[llm.parsers.DoclingParser](/developers/api-docs/pathway-xpacks-llm/parsers)**: The `DoclingParser` class efficiently handles document parsing tasks, including text extraction and table parsing, providing a streamlined approach for document analysis and content extraction.\n",
        "- **[llm.question_answering.BaseRAGQuestionAnswerer](/developers/api-docs/pathway-xpacks-llm/question_answering)**: Sets up a base model for question answering using RAG.\n",
        "- **[llm.vector_store.VectorStoreServer](/developers/api-docs/pathway-xpacks-llm/vectorstore)**: Handles document vector storage and retrieval.\n"
      ]
    },
    {
      "cell_type": "code",
      "execution_count": null,
      "id": "24",
      "metadata": {
        "colab": {
          "base_uri": "https://localhost:8080/",
          "height": 17
        },
        "id": "_2spSj2kbDfW",
        "lines_to_next_cell": 2,
        "outputId": "d7a412a6-a295-4fcb-fb10-435d1e8b192d"
      },
      "outputs": [],
      "source": [
        "import pathway as pw\n",
        "\n",
        "# To use advanced features with Pathway Scale, get your free license key from\n",
        "# https://pathway.com/features and paste it below.\n",
        "# To use Pathway Community, comment out the line below.\n",
        "pw.set_license_key(\"demo-license-key-with-telemetry\")\n",
        "\n",
        "from pathway.udfs import DefaultCache, ExponentialBackoffRetryStrategy\n",
        "from pathway.xpacks.llm import embedders, llms, parsers, prompts, splitters\n",
        "from pathway.xpacks.llm.question_answering import BaseRAGQuestionAnswerer\n",
        "from pathway.xpacks.llm.document_store import DocumentStore"
      ]
    },
    {
      "cell_type": "markdown",
      "id": "25",
      "metadata": {
        "id": "_iGdygT2uYQ1"
      },
      "source": [
        "### Document Processing and Question Answering Setup"
      ]
    },
    {
      "cell_type": "markdown",
      "id": "26",
      "metadata": {
        "id": "ublsBY0GFAbk"
      },
      "source": [
        "#### **Create Data Directory**\n",
        "\n",
        "Create a `data` directory if it doesn't already exist. This is where the uploaded files will be stored. Then upload your pdf document.\n",
        "\n",
        "You can also omit this cell if you are running locally on your system. Create a data folder in the current directory and copy the files. In that case please comment out this cell as this is for colab only.\n",
        "Create the `data` folder if it doesn't exist"
      ]
    },
    {
      "cell_type": "code",
      "execution_count": null,
      "id": "27",
      "metadata": {},
      "outputs": [],
      "source": [
        "!mkdir -p data"
      ]
    },
    {
      "cell_type": "code",
      "execution_count": null,
      "id": "28",
      "metadata": {
        "id": "Jaqzsw6r9V8u"
      },
      "outputs": [],
      "source": [
        "# default file you can use to test\n",
        "# to use your own data via the Colab UI, click on the 'Files' tab in the left sidebar, go to data folder (that was created prior to this) then drag and drop your files there.\n",
        "\n",
        "!wget -q -P ./data/ https://github.com/pathwaycom/llm-app/raw/main/examples/pipelines/gpt_4o_multimodal_rag/data/20230203_alphabet_10K.pdf"
      ]
    },
    {
      "cell_type": "markdown",
      "id": "29",
      "metadata": {
        "id": "D7HFGv7ZFl_g"
      },
      "source": [
        "#### **Read Documents**\n",
        "\n",
        "Read the documents from the data folder. This cell assumes that the uploaded files are in the `data` folder.\n"
      ]
    },
    {
      "cell_type": "code",
      "execution_count": null,
      "id": "30",
      "metadata": {
        "id": "vegYHrXjeufm"
      },
      "outputs": [],
      "source": [
        "folder = pw.io.fs.read(\n",
        "    path=\"./data/\",\n",
        "    format=\"binary\",\n",
        "    with_metadata=True,\n",
        ")\n",
        "sources = [\n",
        "    folder,\n",
        "]  # define the inputs (local folders & files, google drive, sharepoint, ...)\n",
        "chat = llms.OpenAIChat(\n",
        "    model=\"gpt-4o\",\n",
        "    retry_strategy=ExponentialBackoffRetryStrategy(max_retries=6),\n",
        "    cache_strategy=DefaultCache(),\n",
        "    temperature=0.0,\n",
        ")"
      ]
    },
    {
      "cell_type": "markdown",
      "id": "31",
      "metadata": {
        "id": "63WRqIkRF3k5"
      },
      "source": [
        "#### **Configure and Run Question Answering Server**\n",
        "\n",
        "Configure and run the question answering server using `BaseRAGQuestionAnswerer`. This server listens on port 8000 and processes incoming queries.\n"
      ]
    },
    {
      "cell_type": "code",
      "execution_count": null,
      "id": "32",
      "metadata": {
        "id": "ICYNrImFe4u9",
        "lines_to_next_cell": 2
      },
      "outputs": [],
      "source": [
        "app_host = \"0.0.0.0\"\n",
        "app_port = 8000\n",
        "parser = parsers.DoclingParser(\n",
        "    table_parsing_strategy=\"llm\",\n",
        "    image_parsing_strategy=\"llm\",\n",
        "    multimodal_llm=chat\n",
        ")\n",
        "splitter = splitters.TokenCountSplitter()\n",
        "embedder = embedders.OpenAIEmbedder(cache_strategy=DefaultCache())"
      ]
    },
    {
      "cell_type": "code",
      "execution_count": null,
      "id": "33",
      "metadata": {
        "colab": {
          "base_uri": "https://localhost:8080/"
        },
        "id": "gt3TlzSqfBoN",
        "outputId": "4ddc1aef-a493-45b9-d2bf-638194926c2d"
      },
      "outputs": [],
      "source": [
        "index = pw.indexing.BruteForceKnnFactory(embedder=embedder)\n",
        "doc_store = DocumentStore(\n",
        "        sources,\n",
        "        retriever_factory=index,\n",
        "        splitter=splitter,\n",
        "        parser=parser,\n",
        "    )\n",
        "app = BaseRAGQuestionAnswerer(\n",
        "        llm=chat,\n",
        "        indexer=doc_store,\n",
        "        search_topk=6,\n",
        "    )\n",
        "app.build_server(host=app_host, port=app_port)\n",
        "# app.run_server(with_cache=True, terminate_on_error=False)"
      ]
    },
    {
      "cell_type": "code",
      "execution_count": null,
      "id": "34",
      "metadata": {
        "id": "znnkEunOlrA0"
      },
      "outputs": [],
      "source": [
        "import threading\n",
        "\n",
        "t = threading.Thread(target=app.run_server, name=\"BaseRAGQuestionAnswerer\")\n",
        "t.daemon = True\n",
        "thr = t.start()"
      ]
    },
    {
      "cell_type": "markdown",
      "id": "35",
      "metadata": {
        "id": "SriYOxHiBn_6"
      },
      "source": [
        "#### List Documents"
      ]
    },
    {
      "cell_type": "code",
      "execution_count": null,
      "id": "36",
      "metadata": {
        "id": "063pnlvpqB0q",
        "lines_to_next_cell": 2
      },
      "outputs": [],
      "source": [
        "!curl -X 'POST' 'http://0.0.0.0:8000/v2/list_documents' -H 'accept: */*' -H 'Content-Type: application/json'"
      ]
    },
    {
      "cell_type": "markdown",
      "id": "37",
      "metadata": {
        "id": "BYNQh0JPGKBA"
      },
      "source": [
        "#### **Ask Questions and Get Answers**\n",
        "\n",
        "Query the server to get answers from the documents. This cell sends a prompt to the server and receives the response.\n",
        "\n",
        "Make changes to the prompt and ask questions to get information from your documents"
      ]
    },
    {
      "cell_type": "code",
      "execution_count": null,
      "id": "38",
      "metadata": {
        "colab": {
          "base_uri": "https://localhost:8080/"
        },
        "id": "RjsA8X0ayRUk",
        "lines_to_next_cell": 2,
        "outputId": "87cbfc92-5832-43a0-f13b-76ebb6890ea2"
      },
      "outputs": [],
      "source": [
        "!curl -X 'POST'   'http://0.0.0.0:8000/v2/answer'   -H 'accept: */*'   -H 'Content-Type: application/json'   -d '{\"prompt\": \"How much was Operating lease cost in 2021?\"}'"
      ]
    },
    {
      "cell_type": "markdown",
      "id": "39",
      "metadata": {
        "id": "S3zsr-NGop8B"
      },
      "source": [
        "## **Conclusion**\n",
        "This is how you can easily implement a Multimodal RAG Pipeline using GPT-4o and Pathway. You used the [BaseRAGQuestionAnswerer](https://pathway.com/developers/api-docs/pathway-xpacks-llm/question_answering/#pathway.xpacks.llm.question_answering.BaseRAGQuestionAnswerer) class from [pathway.xpacks](https://pathway.com/developers/user-guide/llm-xpack/overview/), which integrates the foundational components for our RAG application, including data ingestion, LLM integration, database creation and querying, and serving the application on an endpoint. For more advanced RAG options, you can explore [rerankers](https://pathway.com/developers/api-docs/pathway-xpacks-llm/rerankers/#pathway.xpacks.llm.rerankers.CrossEncoderReranker) and the [adaptive RAG example](https://pathway.com/developers/showcases/adaptive-rag).\n",
        "For implementing this example using open source LLMs, here\u2019s a [private RAG app template](https://pathway.com/developers/showcases/private-rag-ollama-mistral) that you can use as a starting point. It will help you run the entire application locally making it ideal for use-cases with sensitive data and explainable AI needs. You can do this within Docker as well by following the steps in [Pathway\u2019s LLM App templates](https://github.com/pathwaycom/llm-app/tree/main/examples/pipelines/gpt_4o_multimodal_rag) repository.\n",
        "\n",
        "\n",
        "To explore more app templates and advanced use cases, visit [Pathway App Templates](https://pathway.com/developers/showcases) or Pathway\u2019s [official blog](https://pathway.com/blog)."
      ]
    }
  ],
  "metadata": {
    "kernelspec": {
      "display_name": "Python 3 (ipykernel)",
      "language": "python",
      "name": "python3"
    },
    "language_info": {
      "codemirror_mode": {
        "name": "ipython",
        "version": 3
      },
      "file_extension": ".py",
      "mimetype": "text/x-python",
      "name": "python",
      "nbconvert_exporter": "python",
      "pygments_lexer": "ipython3",
      "version": "3.11.12"
    }
  },
  "nbformat": 4,
  "nbformat_minor": 5
}